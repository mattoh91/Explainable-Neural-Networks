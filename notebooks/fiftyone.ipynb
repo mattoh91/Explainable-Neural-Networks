{
 "cells": [
  {
   "attachments": {},
   "cell_type": "markdown",
   "metadata": {},
   "source": [
    "# Voxel51"
   ]
  },
  {
   "cell_type": "code",
   "execution_count": 2,
   "metadata": {},
   "outputs": [],
   "source": [
    "import pandas as pd\n",
    "import fiftyone as fo\n",
    "import os"
   ]
  },
  {
   "attachments": {},
   "cell_type": "markdown",
   "metadata": {},
   "source": [
    "## Retrieving data from dataset.csv"
   ]
  },
  {
   "cell_type": "code",
   "execution_count": 4,
   "metadata": {},
   "outputs": [
    {
     "data": {
      "text/html": [
       "<div>\n",
       "<style scoped>\n",
       "    .dataframe tbody tr th:only-of-type {\n",
       "        vertical-align: middle;\n",
       "    }\n",
       "\n",
       "    .dataframe tbody tr th {\n",
       "        vertical-align: top;\n",
       "    }\n",
       "\n",
       "    .dataframe thead th {\n",
       "        text-align: right;\n",
       "    }\n",
       "</style>\n",
       "<table border=\"1\" class=\"dataframe\">\n",
       "  <thead>\n",
       "    <tr style=\"text-align: right;\">\n",
       "      <th></th>\n",
       "      <th>label</th>\n",
       "      <th>stage</th>\n",
       "      <th>file_path</th>\n",
       "    </tr>\n",
       "  </thead>\n",
       "  <tbody>\n",
       "    <tr>\n",
       "      <th>0</th>\n",
       "      <td>normal</td>\n",
       "      <td>train</td>\n",
       "      <td>../data/processed/train/normal/NORMAL2-IM-0319...</td>\n",
       "    </tr>\n",
       "    <tr>\n",
       "      <th>1</th>\n",
       "      <td>bacteria</td>\n",
       "      <td>train</td>\n",
       "      <td>../data/processed/train/bacteria/person114_bac...</td>\n",
       "    </tr>\n",
       "    <tr>\n",
       "      <th>2</th>\n",
       "      <td>bacteria</td>\n",
       "      <td>train</td>\n",
       "      <td>../data/processed/train/bacteria/person855_bac...</td>\n",
       "    </tr>\n",
       "    <tr>\n",
       "      <th>3</th>\n",
       "      <td>normal</td>\n",
       "      <td>train</td>\n",
       "      <td>../data/processed/train/normal/IM-0276-0001.jpeg</td>\n",
       "    </tr>\n",
       "    <tr>\n",
       "      <th>4</th>\n",
       "      <td>normal</td>\n",
       "      <td>train</td>\n",
       "      <td>../data/processed/train/normal/NORMAL2-IM-1198...</td>\n",
       "    </tr>\n",
       "  </tbody>\n",
       "</table>\n",
       "</div>"
      ],
      "text/plain": [
       "      label  stage                                          file_path\n",
       "0    normal  train  ../data/processed/train/normal/NORMAL2-IM-0319...\n",
       "1  bacteria  train  ../data/processed/train/bacteria/person114_bac...\n",
       "2  bacteria  train  ../data/processed/train/bacteria/person855_bac...\n",
       "3    normal  train   ../data/processed/train/normal/IM-0276-0001.jpeg\n",
       "4    normal  train  ../data/processed/train/normal/NORMAL2-IM-1198..."
      ]
     },
     "execution_count": 4,
     "metadata": {},
     "output_type": "execute_result"
    }
   ],
   "source": [
    "# location within dockerfile\n",
    "df = pd.read_csv(\"/notebooks/annotations_file.csv\")\n",
    "df.head()"
   ]
  },
  {
   "attachments": {},
   "cell_type": "markdown",
   "metadata": {},
   "source": [
    "## Running Voxel51"
   ]
  },
  {
   "cell_type": "code",
   "execution_count": null,
   "metadata": {},
   "outputs": [],
   "source": [
    "samples = []\n",
    "for filepath, label in zip(df.file_path, df.label):\n",
    "    sample = fo.Sample(filepath=filepath)\n",
    "    sample[\"ground_truth\"] = fo.Classification(label=label)\n",
    "    samples.append(sample)\n",
    "\n",
    "dataset = fo.Dataset()\n",
    "dataset.add_samples(samples)\n",
    "dataset.shuffle(seed=51)\n",
    "dataset.compute_metadata()\n",
    "\n",
    "session = fo.launch_app(dataset, address=\"0.0.0.0\", port=5151)\n",
    "session.wait()"
   ]
  }
 ],
 "metadata": {
  "kernelspec": {
   "display_name": "xnn",
   "language": "python",
   "name": "python3"
  },
  "language_info": {
   "codemirror_mode": {
    "name": "ipython",
    "version": 3
   },
   "file_extension": ".py",
   "mimetype": "text/x-python",
   "name": "python",
   "nbconvert_exporter": "python",
   "pygments_lexer": "ipython3",
   "version": "3.10.10"
  },
  "orig_nbformat": 4
 },
 "nbformat": 4,
 "nbformat_minor": 2
}
